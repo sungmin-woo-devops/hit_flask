{
 "cells": [
  {
   "cell_type": "code",
   "execution_count": null,
   "id": "d1622dca",
   "metadata": {},
   "outputs": [
    {
     "data": {
      "application/json": {
       "response": {
        "body": {
         "items": {
          "item": {
           "endnodenm": "협성대학교정문",
           "endvehicletime": 2215,
           "intervalsattime": 100,
           "intervalsuntime": 100,
           "intervaltime": 24,
           "routeid": "GGB233000011",
           "routeno": 34,
           "routetp": "일반버스",
           "startnodenm": "수원시동부차고지",
           "startvehicletime": "0500"
          }
         }
        },
        "header": {
         "resultCode": "00",
         "resultMsg": "NORMAL SERVICE."
        }
       }
      },
      "text/plain": [
       "<IPython.core.display.JSON object>"
      ]
     },
     "metadata": {
      "application/json": {
       "expanded": true,
       "root": "root"
      }
     },
     "output_type": "display_data"
    }
   ],
   "source": [
    "# 1. 노선정보항목 조회\n",
    "from pprint import pprint\n",
    "import requests\n",
    "import json\n",
    "from IPython.display import JSON\n",
    "\n",
    "def get_route_info_iem(cityCode, routeId):\n",
    "    result = []\n",
    "    url = '\thttp://apis.data.go.kr/1613000/BusRouteInfoInqireService/getRouteInfoIem'\n",
    "    params = {\n",
    "        'serviceKey': 'M4b1RJ9DzKhNVluQtxDKwnBZjluhh0A2A8LQRp7u6UCjfX6sdxRp+S5+S1ZxGG7fFAwXzr/B+91t96JdiulOkA==',\n",
    "        '_type': 'json',\n",
    "        'cityCode': cityCode,\n",
    "        'routeId': routeId,\n",
    "    }\n",
    "    response = requests.get(url, params=params)\n",
    "    decoded = response.content.decode(\"utf-8\")\n",
    "    result = json.loads(decoded)\n",
    "    return result\n",
    "\n",
    "result = get_route_info_iem('31010', 'GGB233000011')\n",
    "# display(JSON(result, expanded=True))"
   ]
  },
  {
   "cell_type": "code",
   "execution_count": null,
   "id": "9fa73f53",
   "metadata": {},
   "outputs": [
    {
     "data": {
      "application/json": {
       "response": {
        "body": {
         "items": {
          "item": [
           {
            "endnodenm": "사당역(중)",
            "endvehicletime": 2230,
            "routeid": "GGB233000007",
            "routeno": 777,
            "routetp": "일반버스",
            "startnodenm": "서둔동차고지대기(미정차)",
            "startvehicletime": "0430"
           },
           {
            "endnodenm": "협성대학교정문",
            "endvehicletime": 2215,
            "routeid": "GGB233000011",
            "routeno": 34,
            "routetp": "일반버스",
            "startnodenm": "수원시동부차고지",
            "startvehicletime": "0500"
           },
           {
            "endnodenm": "협성대학교정문",
            "endvehicletime": 2230,
            "routeid": "GGB233000012",
            "routeno": "34-1",
            "routetp": "일반버스",
            "startnodenm": "수원시동부차고지",
            "startvehicletime": "0517"
           },
           {
            "endnodenm": "사당역(중)",
            "endvehicletime": "0100",
            "routeid": "GGB233000031",
            "routeno": 7770,
            "routetp": "직행좌석버스",
            "startnodenm": "서둔동차고지대기(미정차)",
            "startvehicletime": "0430"
           },
           {
            "endnodenm": "사당역(중)",
            "routeid": "GGB233000032",
            "routeno": 7780,
            "routetp": "직행좌석버스",
            "startnodenm": "호매실동차고지",
            "startvehicletime": "0500"
           },
           {
            "endnodenm": "수원대학교",
            "endvehicletime": 2245,
            "routeid": "GGB233000083",
            "routeno": 30,
            "routetp": "일반버스",
            "startnodenm": "이목동차고지.이목동입구",
            "startvehicletime": "0450"
           },
           {
            "endnodenm": "봉담읍행정복지센터",
            "endvehicletime": 2300,
            "routeid": "GGB233000087",
            "routeno": 42,
            "routetp": "일반버스",
            "startnodenm": "이목동차고지.이목동입구",
            "startvehicletime": "0500"
           },
           {
            "endnodenm": "경진여객차고지",
            "endvehicletime": 2300,
            "routeid": "GGB233000271",
            "routeno": 9802,
            "routetp": "직행좌석버스",
            "startnodenm": "서둔동차고지대기(미정차)",
            "startvehicletime": "0500"
           },
           {
            "endnodenm": "안중터미널.안중보건지소",
            "endvehicletime": 2240,
            "routeid": "GGB233000272",
            "routeno": 8472,
            "routetp": "직행좌석버스",
            "startnodenm": "서둔동차고지대기(미정차)",
            "startvehicletime": "0500"
           },
           {
            "endnodenm": "안중터미널.안중보건지소",
            "endvehicletime": 2028,
            "routeid": "GGB233000273",
            "routeno": 8471,
            "routetp": "직행좌석버스",
            "startnodenm": "서둔동차고지대기(미정차)",
            "startvehicletime": "0710"
           }
          ]
         },
         "numOfRows": 10,
         "pageNo": 1,
         "totalCount": 95
        },
        "header": {
         "resultCode": "00",
         "resultMsg": "NORMAL SERVICE."
        }
       }
      },
      "text/plain": [
       "<IPython.core.display.JSON object>"
      ]
     },
     "metadata": {
      "application/json": {
       "expanded": true,
       "root": "root"
      }
     },
     "output_type": "display_data"
    }
   ],
   "source": [
    "# 2. 노선번호목록 조회\n",
    "from pprint import pprint\n",
    "import requests\n",
    "import json\n",
    "from IPython.display import JSON\n",
    "\n",
    "def get_route_no_list(cityCode):\n",
    "    url = 'http://apis.data.go.kr/1613000/BusRouteInfoInqireService/getRouteNoList'\n",
    "    params = {\n",
    "        'serviceKey': 'M4b1RJ9DzKhNVluQtxDKwnBZjluhh0A2A8LQRp7u6UCjfX6sdxRp+S5+S1ZxGG7fFAwXzr/B+91t96JdiulOkA==',\n",
    "        '_type': 'json',\n",
    "        'cityCode': cityCode,\n",
    "    }\n",
    "    response = requests.get(url, params=params)\n",
    "    decoded = response.content.decode(\"utf-8\")\n",
    "    result = json.loads(decoded)\n",
    "    return result\n",
    "\n",
    "result = get_route_no_list('31010')\n",
    "display(JSON(result, expanded=True))\n",
    "# print(len(result['response']['body']['items']['item']))"
   ]
  },
  {
   "cell_type": "code",
   "execution_count": null,
   "id": "5425bc7d",
   "metadata": {},
   "outputs": [
    {
     "data": {
      "application/json": {
       "response": {
        "body": {
         "items": {
          "item": [
           {
            "gpslati": 37.2869667,
            "gpslong": 127.0785,
            "nodeid": "GGB203000360",
            "nodenm": "수원시동부차고지",
            "nodeno": 4346,
            "nodeord": 1,
            "routeid": "GGB233000011"
           },
           {
            "gpslati": 37.2845333,
            "gpslong": 127.07605,
            "nodeid": "GGB277102568",
            "nodenm": "동부차고지(미정차)",
            "nodeord": 2,
            "routeid": "GGB233000011"
           },
           {
            "gpslati": 37.2814833,
            "gpslong": 127.0704667,
            "nodeid": "GGB203000312",
            "nodenm": "광교한양수자인.광교복합체육센터",
            "nodeno": 4207,
            "nodeord": 3,
            "routeid": "GGB233000011"
           },
           {
            "gpslati": 37.2791667,
            "gpslong": 127.0675,
            "nodeid": "GGB203000311",
            "nodenm": "광교호반마을21단지",
            "nodeno": 4282,
            "nodeord": 4,
            "routeid": "GGB233000011"
           },
           {
            "gpslati": 37.2761667,
            "gpslong": 127.0674833,
            "nodeid": "GGB203000304",
            "nodenm": "광교호반마을입구",
            "nodeno": 4279,
            "nodeord": 5,
            "routeid": "GGB233000011"
           },
           {
            "gpslati": 37.2760833,
            "gpslong": 127.0722833,
            "nodeid": "GGB228001826",
            "nodenm": "흥덕중심상업지구",
            "nodeno": 47865,
            "nodeord": 6,
            "routeid": "GGB233000011"
           },
           {
            "gpslati": 37.27805,
            "gpslong": 127.0744833,
            "nodeid": "GGB228001841",
            "nodenm": "영덕1동행정복지센터.흥덕6.7단지.기흥세무서",
            "nodeno": 47808,
            "nodeord": 7,
            "routeid": "GGB233000011"
           },
           {
            "gpslati": 37.2776167,
            "gpslong": 127.0776833,
            "nodeid": "GGB228001807",
            "nodenm": "흥덕마을8.9단지",
            "nodeno": 47814,
            "nodeord": 8,
            "routeid": "GGB233000011"
           },
           {
            "gpslati": 37.2756333,
            "gpslong": 127.0799,
            "nodeid": "GGB228001831",
            "nodenm": "흥덕마을10단지.흥덕중학교.유타워",
            "nodeno": 47812,
            "nodeord": 9,
            "routeid": "GGB233000011"
           },
           {
            "gpslati": 37.2724167,
            "gpslong": 127.08195,
            "nodeid": "GGB228001852",
            "nodenm": "흥덕마을12단지.한국도로교통공단경기지부",
            "nodeno": 47806,
            "nodeord": 10,
            "routeid": "GGB233000011"
           }
          ]
         },
         "numOfRows": 10,
         "pageNo": 1,
         "totalCount": 154
        },
        "header": {
         "resultCode": "00",
         "resultMsg": "NORMAL SERVICE."
        }
       }
      },
      "text/plain": [
       "<IPython.core.display.JSON object>"
      ]
     },
     "metadata": {
      "application/json": {
       "expanded": true,
       "root": "root"
      }
     },
     "output_type": "display_data"
    }
   ],
   "source": [
    "# 3. 노선별경유정류소목록 조회\n",
    "from pprint import pprint\n",
    "import requests\n",
    "import json\n",
    "from IPython.display import JSON\n",
    "\n",
    "def get_route_accto_thrgh_sttn_list(cityCode, routeId):\n",
    "    url = 'http://apis.data.go.kr/1613000/BusRouteInfoInqireService/getRouteAcctoThrghSttnList'\n",
    "    params = {\n",
    "        'serviceKey': 'M4b1RJ9DzKhNVluQtxDKwnBZjluhh0A2A8LQRp7u6UCjfX6sdxRp+S5+S1ZxGG7fFAwXzr/B+91t96JdiulOkA==',\n",
    "        '_type': 'json',\n",
    "        'cityCode': cityCode,\n",
    "        'routeId': routeId,\n",
    "    }\n",
    "    response = requests.get(url, params=params)\n",
    "    decoded = response.content.decode(\"utf-8\")\n",
    "    result = json.loads(decoded)\n",
    "    return result\n",
    "\n",
    "result = get_route_accto_thrgh_sttn_list('31010', 'GGB233000011')\n",
    "display(JSON(result, expanded=True))"
   ]
  },
  {
   "cell_type": "code",
   "execution_count": null,
   "id": "98d92ea2",
   "metadata": {},
   "outputs": [
    {
     "data": {
      "application/json": {
       "response": {
        "body": {
         "items": {
          "item": [
           {
            "citycode": 12,
            "cityname": "세종특별시"
           },
           {
            "citycode": 21,
            "cityname": "부산광역시"
           },
           {
            "citycode": 22,
            "cityname": "대구광역시"
           },
           {
            "citycode": 23,
            "cityname": "인천광역시"
           },
           {
            "citycode": 24,
            "cityname": "광주광역시"
           },
           {
            "citycode": 25,
            "cityname": "대전광역시/계룡시"
           },
           {
            "citycode": 26,
            "cityname": "울산광역시"
           },
           {
            "citycode": 39,
            "cityname": "제주도"
           },
           {
            "citycode": 31010,
            "cityname": "수원시"
           },
           {
            "citycode": 31020,
            "cityname": "성남시"
           },
           {
            "citycode": 31030,
            "cityname": "의정부시"
           },
           {
            "citycode": 31040,
            "cityname": "안양시"
           },
           {
            "citycode": 31050,
            "cityname": "부천시"
           },
           {
            "citycode": 31060,
            "cityname": "광명시"
           },
           {
            "citycode": 31070,
            "cityname": "평택시"
           },
           {
            "citycode": 31080,
            "cityname": "동두천시"
           },
           {
            "citycode": 31090,
            "cityname": "안산시"
           },
           {
            "citycode": 31100,
            "cityname": "고양시"
           },
           {
            "citycode": 31110,
            "cityname": "과천시"
           },
           {
            "citycode": 31120,
            "cityname": "구리시"
           },
           {
            "citycode": 31130,
            "cityname": "남양주시"
           },
           {
            "citycode": 31140,
            "cityname": "오산시"
           },
           {
            "citycode": 31150,
            "cityname": "시흥시"
           },
           {
            "citycode": 31160,
            "cityname": "군포시"
           },
           {
            "citycode": 31170,
            "cityname": "의왕시"
           },
           {
            "citycode": 31180,
            "cityname": "하남시"
           },
           {
            "citycode": 31190,
            "cityname": "용인시"
           },
           {
            "citycode": 31200,
            "cityname": "파주시"
           },
           {
            "citycode": 31210,
            "cityname": "이천시"
           },
           {
            "citycode": 31220,
            "cityname": "안성시"
           },
           {
            "citycode": 31230,
            "cityname": "김포시"
           },
           {
            "citycode": 31240,
            "cityname": "화성시"
           },
           {
            "citycode": 31250,
            "cityname": "광주시"
           },
           {
            "citycode": 31260,
            "cityname": "양주시"
           },
           {
            "citycode": 31270,
            "cityname": "포천시"
           },
           {
            "citycode": 31320,
            "cityname": "여주시"
           },
           {
            "citycode": 31350,
            "cityname": "연천군"
           },
           {
            "citycode": 31370,
            "cityname": "가평군"
           },
           {
            "citycode": 31380,
            "cityname": "양평군"
           },
           {
            "citycode": 32010,
            "cityname": "춘천시"
           },
           {
            "citycode": 32020,
            "cityname": "원주시/횡성군"
           },
           {
            "citycode": 32050,
            "cityname": "태백시"
           },
           {
            "citycode": 32310,
            "cityname": "홍천군"
           },
           {
            "citycode": 32360,
            "cityname": "철원군"
           },
           {
            "citycode": 32410,
            "cityname": "양양군"
           },
           {
            "citycode": 33010,
            "cityname": "청주시"
           },
           {
            "citycode": 33020,
            "cityname": "충주시"
           },
           {
            "citycode": 33030,
            "cityname": "제천시"
           },
           {
            "citycode": 33320,
            "cityname": "보은군"
           },
           {
            "citycode": 33330,
            "cityname": "옥천군"
           },
           {
            "citycode": 33340,
            "cityname": "영동군"
           },
           {
            "citycode": 33350,
            "cityname": "진천군"
           },
           {
            "citycode": 33360,
            "cityname": "괴산군"
           },
           {
            "citycode": 33370,
            "cityname": "음성군"
           },
           {
            "citycode": 33380,
            "cityname": "단양군"
           },
           {
            "citycode": 34010,
            "cityname": "천안시"
           },
           {
            "citycode": 34020,
            "cityname": "공주시"
           },
           {
            "citycode": 34040,
            "cityname": "아산시"
           },
           {
            "citycode": 34050,
            "cityname": "서산시"
           },
           {
            "citycode": 34060,
            "cityname": "논산시"
           },
           {
            "citycode": 34070,
            "cityname": "계룡시"
           },
           {
            "citycode": 34330,
            "cityname": "부여군"
           },
           {
            "citycode": 34390,
            "cityname": "당진시"
           },
           {
            "citycode": 35010,
            "cityname": "전주시"
           },
           {
            "citycode": 35020,
            "cityname": "군산시"
           },
           {
            "citycode": 35040,
            "cityname": "정읍시"
           },
           {
            "citycode": 35050,
            "cityname": "남원시"
           },
           {
            "citycode": 35060,
            "cityname": "김제시"
           },
           {
            "citycode": 35320,
            "cityname": "진안군"
           },
           {
            "citycode": 35330,
            "cityname": "무주군"
           },
           {
            "citycode": 35340,
            "cityname": "장수군"
           },
           {
            "citycode": 35350,
            "cityname": "임실군"
           },
           {
            "citycode": 35360,
            "cityname": "순창군"
           },
           {
            "citycode": 35370,
            "cityname": "고창군"
           },
           {
            "citycode": 35380,
            "cityname": "부안군"
           },
           {
            "citycode": 36010,
            "cityname": "목포시"
           },
           {
            "citycode": 36020,
            "cityname": "여수시"
           },
           {
            "citycode": 36030,
            "cityname": "순천시"
           },
           {
            "citycode": 36040,
            "cityname": "나주시"
           },
           {
            "citycode": 36060,
            "cityname": "광양시"
           },
           {
            "citycode": 36320,
            "cityname": "곡성군"
           },
           {
            "citycode": 36330,
            "cityname": "구례군"
           },
           {
            "citycode": 36350,
            "cityname": "고흥군"
           },
           {
            "citycode": 36380,
            "cityname": "장흥군"
           },
           {
            "citycode": 36400,
            "cityname": "해남군"
           },
           {
            "citycode": 36410,
            "cityname": "영암군"
           },
           {
            "citycode": 36420,
            "cityname": "무안군"
           },
           {
            "citycode": 36430,
            "cityname": "함평군"
           },
           {
            "citycode": 36450,
            "cityname": "장성군"
           },
           {
            "citycode": 36460,
            "cityname": "완도군"
           },
           {
            "citycode": 36470,
            "cityname": "진도군"
           },
           {
            "citycode": 36480,
            "cityname": "신안군"
           },
           {
            "citycode": 37010,
            "cityname": "포항시"
           },
           {
            "citycode": 37020,
            "cityname": "경주시"
           },
           {
            "citycode": 37030,
            "cityname": "김천시"
           },
           {
            "citycode": 37040,
            "cityname": "안동시"
           },
           {
            "citycode": 37050,
            "cityname": "구미시"
           },
           {
            "citycode": 37060,
            "cityname": "영주시"
           },
           {
            "citycode": 37070,
            "cityname": "영천시"
           },
           {
            "citycode": 37080,
            "cityname": "상주시"
           },
           {
            "citycode": 37090,
            "cityname": "문경시"
           },
           {
            "citycode": 37100,
            "cityname": "경산시"
           },
           {
            "citycode": 37320,
            "cityname": "의성군"
           },
           {
            "citycode": 37330,
            "cityname": "청송군"
           },
           {
            "citycode": 37340,
            "cityname": "영양군"
           },
           {
            "citycode": 37350,
            "cityname": "영덕군"
           },
           {
            "citycode": 37360,
            "cityname": "청도군"
           },
           {
            "citycode": 37370,
            "cityname": "고령군"
           },
           {
            "citycode": 37380,
            "cityname": "성주군"
           },
           {
            "citycode": 37390,
            "cityname": "칠곡군"
           },
           {
            "citycode": 37400,
            "cityname": "예천군"
           },
           {
            "citycode": 37410,
            "cityname": "봉화군"
           },
           {
            "citycode": 37420,
            "cityname": "울진군"
           },
           {
            "citycode": 37430,
            "cityname": "울릉군"
           },
           {
            "citycode": 38010,
            "cityname": "창원시"
           },
           {
            "citycode": 38030,
            "cityname": "진주시"
           },
           {
            "citycode": 38050,
            "cityname": "통영시"
           },
           {
            "citycode": 38060,
            "cityname": "사천시"
           },
           {
            "citycode": 38070,
            "cityname": "김해시"
           },
           {
            "citycode": 38080,
            "cityname": "밀양시"
           },
           {
            "citycode": 38090,
            "cityname": "거제시"
           },
           {
            "citycode": 38100,
            "cityname": "양산시"
           },
           {
            "citycode": 38310,
            "cityname": "의령군"
           },
           {
            "citycode": 38320,
            "cityname": "함안군"
           },
           {
            "citycode": 38330,
            "cityname": "창녕군"
           },
           {
            "citycode": 38340,
            "cityname": "고성군"
           },
           {
            "citycode": 38350,
            "cityname": "남해군"
           },
           {
            "citycode": 38360,
            "cityname": "하동군"
           },
           {
            "citycode": 38370,
            "cityname": "산청군"
           },
           {
            "citycode": 38380,
            "cityname": "함양군"
           },
           {
            "citycode": 38390,
            "cityname": "거창군"
           },
           {
            "citycode": 38400,
            "cityname": "합천군"
           }
          ]
         }
        },
        "header": {
         "resultCode": "00",
         "resultMsg": "NORMAL SERVICE."
        }
       }
      },
      "text/plain": [
       "<IPython.core.display.JSON object>"
      ]
     },
     "metadata": {
      "application/json": {
       "expanded": true,
       "root": "root"
      }
     },
     "output_type": "display_data"
    }
   ],
   "source": [
    "# 4. 도시코드 목록 조회\n",
    "from pprint import pprint\n",
    "import requests\n",
    "\n",
    "def get_cty_code_list(cityCode, routeId):\n",
    "    url = 'http://apis.data.go.kr/1613000/BusRouteInfoInqireService/getCtyCodeList'\n",
    "    params = {\n",
    "        'serviceKey': 'M4b1RJ9DzKhNVluQtxDKwnBZjluhh0A2A8LQRp7u6UCjfX6sdxRp+S5+S1ZxGG7fFAwXzr/B+91t96JdiulOkA==',\n",
    "        '_type': 'json',\n",
    "        'cityCode': cityCode,\n",
    "        'routeId': routeId,\n",
    "    }\n",
    "    response = requests.get(url, params=params)\n",
    "    # content(바이트) → decode(\"utf-8\")로 한글 변환\n",
    "    decoded = response.content.decode(\"utf-8\")\n",
    "    result = json.loads(decoded)\n",
    "    return result\n",
    "\n",
    "result = get_cty_code_list('31010', 'GGB233000011')\n",
    "display(JSON(result, expanded=True))"
   ]
  },
  {
   "cell_type": "code",
   "execution_count": 72,
   "id": "b9d39967",
   "metadata": {},
   "outputs": [
    {
     "name": "stdout",
     "output_type": "stream",
     "text": [
      "노선번호목록 조회\n",
      "['GGB234001318', 'GGB233000083', 'GGB233000032', 'GGB233000273', 'GGB233000087', 'GGB233000031', 'GGB233000272', 'GGB234001286', 'GGB234001317', 'GGB233000271']\n",
      "10\n",
      "--------------------------------\n",
      "{'serviceKey': 'M4b1RJ9DzKhNVluQtxDKwnBZjluhh0A2A8LQRp7u6UCjfX6sdxRp+S5+S1ZxGG7fFAwXzr/B+91t96JdiulOkA==', '_type': 'json', 'cityCode': 31010, 'routeId': 'GGB234001318'}\n",
      "{'serviceKey': 'M4b1RJ9DzKhNVluQtxDKwnBZjluhh0A2A8LQRp7u6UCjfX6sdxRp+S5+S1ZxGG7fFAwXzr/B+91t96JdiulOkA==', '_type': 'json', 'cityCode': 31010, 'routeId': 'GGB233000083'}\n",
      "{'serviceKey': 'M4b1RJ9DzKhNVluQtxDKwnBZjluhh0A2A8LQRp7u6UCjfX6sdxRp+S5+S1ZxGG7fFAwXzr/B+91t96JdiulOkA==', '_type': 'json', 'cityCode': 31010, 'routeId': 'GGB233000032'}\n",
      "{'serviceKey': 'M4b1RJ9DzKhNVluQtxDKwnBZjluhh0A2A8LQRp7u6UCjfX6sdxRp+S5+S1ZxGG7fFAwXzr/B+91t96JdiulOkA==', '_type': 'json', 'cityCode': 31010, 'routeId': 'GGB233000273'}\n",
      "{'serviceKey': 'M4b1RJ9DzKhNVluQtxDKwnBZjluhh0A2A8LQRp7u6UCjfX6sdxRp+S5+S1ZxGG7fFAwXzr/B+91t96JdiulOkA==', '_type': 'json', 'cityCode': 31010, 'routeId': 'GGB233000087'}\n",
      "{'serviceKey': 'M4b1RJ9DzKhNVluQtxDKwnBZjluhh0A2A8LQRp7u6UCjfX6sdxRp+S5+S1ZxGG7fFAwXzr/B+91t96JdiulOkA==', '_type': 'json', 'cityCode': 31010, 'routeId': 'GGB233000031'}\n",
      "{'serviceKey': 'M4b1RJ9DzKhNVluQtxDKwnBZjluhh0A2A8LQRp7u6UCjfX6sdxRp+S5+S1ZxGG7fFAwXzr/B+91t96JdiulOkA==', '_type': 'json', 'cityCode': 31010, 'routeId': 'GGB233000272'}\n",
      "{'serviceKey': 'M4b1RJ9DzKhNVluQtxDKwnBZjluhh0A2A8LQRp7u6UCjfX6sdxRp+S5+S1ZxGG7fFAwXzr/B+91t96JdiulOkA==', '_type': 'json', 'cityCode': 31010, 'routeId': 'GGB234001286'}\n",
      "{'serviceKey': 'M4b1RJ9DzKhNVluQtxDKwnBZjluhh0A2A8LQRp7u6UCjfX6sdxRp+S5+S1ZxGG7fFAwXzr/B+91t96JdiulOkA==', '_type': 'json', 'cityCode': 31010, 'routeId': 'GGB234001317'}\n",
      "{'serviceKey': 'M4b1RJ9DzKhNVluQtxDKwnBZjluhh0A2A8LQRp7u6UCjfX6sdxRp+S5+S1ZxGG7fFAwXzr/B+91t96JdiulOkA==', '_type': 'json', 'cityCode': 31010, 'routeId': 'GGB233000271'}\n",
      "노션정보 조회\n",
      "[{'response': {'header': {'resultCode': '00', 'resultMsg': 'NORMAL SERVICE.'}, 'body': {'items': {'item': {'endnodenm': '강남역나라빌딩앞', 'endvehicletime': 2300, 'intervalsattime': 70, 'intervalsuntime': 70, 'intervaltime': 20, 'routeid': 'GGB234001318', 'routeno': 'M5422', 'routetp': '광역급행버스', 'startnodenm': '삼성전자중앙문', 'startvehicletime': '0500'}}}}}, {'response': {'header': {'resultCode': '00', 'resultMsg': 'NORMAL SERVICE.'}, 'body': {'items': {'item': {'endnodenm': '수원대학교', 'endvehicletime': 2245, 'intervalsattime': 50, 'intervalsuntime': 50, 'intervaltime': 25, 'routeid': 'GGB233000083', 'routeno': 30, 'routetp': '일반버스', 'startnodenm': '이목동차고지.이목동입구', 'startvehicletime': '0450'}}}}}, {'response': {'header': {'resultCode': '00', 'resultMsg': 'NORMAL SERVICE.'}, 'body': {'items': {'item': {'endnodenm': '사당역(중)', 'intervalsattime': 15, 'intervalsuntime': 15, 'intervaltime': 2, 'routeid': 'GGB233000032', 'routeno': 7780, 'routetp': '직행좌석버스', 'startnodenm': '호매실동차고지', 'startvehicletime': '0500'}}}}}, {'response': {'header': {'resultCode': '00', 'resultMsg': 'NORMAL SERVICE.'}, 'body': {'items': {'item': {'endnodenm': '안중터미널.안중보건지소', 'endvehicletime': 2028, 'intervalsattime': 260, 'intervalsuntime': 260, 'intervaltime': 250, 'routeid': 'GGB233000273', 'routeno': 8471, 'routetp': '직행좌석버스', 'startnodenm': '서둔동차고지대기(미정차)', 'startvehicletime': '0710'}}}}}, {'response': {'header': {'resultCode': '00', 'resultMsg': 'NORMAL SERVICE.'}, 'body': {'items': {'item': {'endnodenm': '봉담읍행정복지센터', 'endvehicletime': 2300, 'intervalsattime': 30, 'intervalsuntime': 30, 'intervaltime': 17, 'routeid': 'GGB233000087', 'routeno': 42, 'routetp': '일반버스', 'startnodenm': '이목동차고지.이목동입구', 'startvehicletime': '0500'}}}}}, {'response': {'header': {'resultCode': '00', 'resultMsg': 'NORMAL SERVICE.'}, 'body': {'items': {'item': {'endnodenm': '사당역(중)', 'endvehicletime': '0100', 'intervalsattime': 9, 'intervalsuntime': 9, 'intervaltime': 4, 'routeid': 'GGB233000031', 'routeno': 7770, 'routetp': '직행좌석버스', 'startnodenm': '서둔동차고지대기(미정차)', 'startvehicletime': '0430'}}}}}, {'response': {'header': {'resultCode': '00', 'resultMsg': 'NORMAL SERVICE.'}, 'body': {'items': {'item': {'endnodenm': '안중터미널.안중보건지소', 'endvehicletime': 2240, 'intervalsattime': 45, 'intervalsuntime': 45, 'intervaltime': 45, 'routeid': 'GGB233000272', 'routeno': 8472, 'routetp': '직행좌석버스', 'startnodenm': '서둔동차고지대기(미정차)', 'startvehicletime': '0500'}}}}}, {'response': {'header': {'resultCode': '00', 'resultMsg': 'NORMAL SERVICE.'}, 'body': {'items': {'item': {'endnodenm': '서울역버스환승센터(6번승강장)(중)', 'endvehicletime': 2250, 'intervalsattime': 70, 'intervalsuntime': 70, 'intervaltime': 20, 'routeid': 'GGB234001286', 'routeno': 'M5115', 'routetp': '광역급행버스', 'startnodenm': '상현역', 'startvehicletime': '0510'}}}}}, {'response': {'header': {'resultCode': '00', 'resultMsg': 'NORMAL SERVICE.'}, 'body': {'items': {'item': {'endnodenm': '서울역버스환승센터(6번승강장)(중)', 'endvehicletime': 2240, 'intervalsattime': 40, 'intervalsuntime': 40, 'intervaltime': 7, 'routeid': 'GGB234001317', 'routeno': 'M5121', 'routetp': '광역급행버스', 'startnodenm': '삼성전자중앙문', 'startvehicletime': '0510'}}}}}, {'response': {'header': {'resultCode': '00', 'resultMsg': 'NORMAL SERVICE.'}, 'body': {'items': {'item': {'endnodenm': '경진여객차고지', 'endvehicletime': 2300, 'intervalsattime': 33, 'intervalsuntime': 33, 'intervaltime': 27, 'routeid': 'GGB233000271', 'routeno': 9802, 'routetp': '직행좌석버스', 'startnodenm': '서둔동차고지대기(미정차)', 'startvehicletime': '0500'}}}}}]\n",
      "10\n",
      "노선별경유정류소목록 조회\n",
      "[{'response': {'header': {'resultCode': '00', 'resultMsg': 'NORMAL SERVICE.'}, 'body': {'items': {'item': [{'gpslati': 37.2593833, 'gpslong': 127.0486667, 'nodeid': 'GGB203000023', 'nodenm': '삼성전자중앙문', 'nodeno': 4046, 'nodeord': 1, 'routeid': 'GGB234001318'}, {'gpslati': 37.2657167, 'gpslong': 127.0522333, 'nodeid': 'GGB277102595', 'nodenm': '매원고삼거리(미정차)', 'nodeord': 2, 'routeid': 'GGB234001318'}, {'gpslati': 37.26735, 'gpslong': 127.05625, 'nodeid': 'GGB203000116', 'nodenm': '금성아파트.한국2차아파트', 'nodeno': 4071, 'nodeord': 3, 'routeid': 'GGB234001318'}, {'gpslati': 37.2709333, 'gpslong': 127.0596, 'nodeid': 'GGB203000071', 'nodenm': '광교호수공원입구.원천교사거리', 'nodeno': 4087, 'nodeord': 4, 'routeid': 'GGB234001318'}, {'gpslati': 37.2735833, 'gpslong': 127.0511, 'nodeid': 'GGB203000069', 'nodenm': 'KT동수원지사', 'nodeno': 4056, 'nodeord': 5, 'routeid': 'GGB234001318'}, {'gpslati': 37.2779667, 'gpslong': 127.0519833, 'nodeid': 'GGB203000294', 'nodenm': '소화초등학교', 'nodeno': 4286, 'nodeord': 6, 'routeid': 'GGB234001318'}, {'gpslati': 37.2884833, 'gpslong': 127.0518833, 'nodeid': 'GGB203000399', 'nodenm': '광교중앙.경기도청.아주대역환승센터', 'nodeno': 4396, 'nodeord': 7, 'routeid': 'GGB234001318'}, {'gpslati': 37.2923833, 'gpslong': 127.0474167, 'nodeid': 'GGB203000042', 'nodenm': '푸르지오월드마크.차세대융합기술연구원', 'nodeno': 4186, 'nodeord': 8, 'routeid': 'GGB234001318'}, {'gpslati': 37.2971, 'gpslong': 127.0470833, 'nodeid': 'GGB277103382', 'nodenm': '동수원TG(미정차)', 'nodeord': 9, 'routeid': 'GGB234001318'}, {'gpslati': 37.2931667, 'gpslong': 127.0789167, 'nodeid': 'GGB277103691', 'nodenm': '광교(미정차)', 'nodeord': 10, 'routeid': 'GGB234001318'}]}, 'numOfRows': 10, 'pageNo': 1, 'totalCount': 47}}}, {'response': {'header': {'resultCode': '00', 'resultMsg': 'NORMAL SERVICE.'}, 'body': {'items': {'item': [{'gpslati': 37.3216667, 'gpslong': 126.98905, 'nodeid': 'GGB200000165', 'nodenm': '이목동차고지.이목동입구', 'nodeno': 1070, 'nodeord': 1, 'routeid': 'GGB233000083'}, {'gpslati': 37.3212, 'gpslong': 126.98885, 'nodeid': 'GGB200000298', 'nodenm': '파장동북부차고지', 'nodeno': 1280, 'nodeord': 2, 'routeid': 'GGB233000083'}, {'gpslati': 37.3139, 'gpslong': 126.9862333, 'nodeid': 'GGB200000128', 'nodenm': '이목동입구', 'nodeno': 1063, 'nodeord': 3, 'routeid': 'GGB233000083'}, {'gpslati': 37.3093167, 'gpslong': 126.9882667, 'nodeid': 'GGB200000127', 'nodenm': 'SK스카이뷰.SK아트리움', 'nodeno': 1218, 'nodeord': 4, 'routeid': 'GGB233000083'}, {'gpslati': 37.3063667, 'gpslong': 126.9908333, 'nodeid': 'GGB200000117', 'nodenm': '북수원자이렉스비아정문', 'nodeno': 1077, 'nodeord': 5, 'routeid': 'GGB233000083'}, {'gpslati': 37.3041667, 'gpslong': 126.9922, 'nodeid': 'GGB200000353', 'nodenm': '효자문사거리.북수원자이렉스비아남문', 'nodeno': 1326, 'nodeord': 6, 'routeid': 'GGB233000083'}, {'gpslati': 37.3029, 'gpslong': 126.9903833, 'nodeid': 'GGB200000331', 'nodenm': '신호아파트.북수원자이렉스비아남문', 'nodeno': 1304, 'nodeord': 7, 'routeid': 'GGB233000083'}, {'gpslati': 37.3011, 'gpslong': 126.98805, 'nodeid': 'GGB200000366', 'nodenm': '대림.진흥아파트', 'nodeno': 1339, 'nodeord': 8, 'routeid': 'GGB233000083'}, {'gpslati': 37.2993167, 'gpslong': 126.986, 'nodeid': 'GGB200000368', 'nodenm': '동남대후문.북수원리버파크', 'nodeno': 1341, 'nodeord': 9, 'routeid': 'GGB233000083'}, {'gpslati': 37.2979167, 'gpslong': 126.98485, 'nodeid': 'GGB200000371', 'nodenm': '영풍마을.동남대후문', 'nodeno': 1344, 'nodeord': 10, 'routeid': 'GGB233000083'}]}, 'numOfRows': 10, 'pageNo': 1, 'totalCount': 114}}}, {'response': {'header': {'resultCode': '00', 'resultMsg': 'NORMAL SERVICE.'}, 'body': {'items': {'item': [{'gpslati': 37.2547333, 'gpslong': 126.9629, 'nodeid': 'GGB201000404', 'nodenm': '호매실동차고지', 'nodeno': 2903, 'nodeord': 1, 'routeid': 'GGB233000032'}, {'gpslati': 37.2542, 'gpslong': 126.9620167, 'nodeid': 'GGB201000448', 'nodenm': '호매실스타힐스.수원여대입구', 'nodeno': 2943, 'nodeord': 2, 'routeid': 'GGB233000032'}, {'gpslati': 37.2552833, 'gpslong': 126.9629167, 'nodeid': 'GGB201000446', 'nodenm': '서부공영차고지', 'nodeno': 2949, 'nodeord': 3, 'routeid': 'GGB233000032'}, {'gpslati': 37.25605, 'gpslong': 126.9706833, 'nodeid': 'GGB201000469', 'nodenm': '권선구청.경기종합노동복지회관', 'nodeno': 2954, 'nodeord': 4, 'routeid': 'GGB233000032'}, {'gpslati': 37.2571667, 'gpslong': 126.9738333, 'nodeid': 'GGB201000125', 'nodenm': '권선구청.한봄고등학교', 'nodeno': 2097, 'nodeord': 5, 'routeid': 'GGB233000032'}, {'gpslati': 37.2686833, 'gpslong': 126.9715833, 'nodeid': 'GGB201000218', 'nodenm': '탑동우방아파트', 'nodeno': 2095, 'nodeord': 6, 'routeid': 'GGB233000032'}, {'gpslati': 37.27425, 'gpslong': 126.9705333, 'nodeid': 'GGB201000173', 'nodenm': '구운동주민센터.서수원도서관', 'nodeno': 2089, 'nodeord': 7, 'routeid': 'GGB233000032'}, {'gpslati': 37.2752167, 'gpslong': 126.9745833, 'nodeid': 'GGB201000172', 'nodenm': '탑동초등학교.삼성아파트', 'nodeno': 2103, 'nodeord': 8, 'routeid': 'GGB233000032'}, {'gpslati': 37.27555, 'gpslong': 126.97645, 'nodeid': 'GGB201000171', 'nodenm': '구운중학교', 'nodeno': 2110, 'nodeord': 9, 'routeid': 'GGB233000032'}, {'gpslati': 37.2770833, 'gpslong': 126.9788167, 'nodeid': 'GGB201000031', 'nodenm': '웃거리.힐스테이트수원테라스', 'nodeno': 2119, 'nodeord': 10, 'routeid': 'GGB233000032'}]}, 'numOfRows': 10, 'pageNo': 1, 'totalCount': 74}}}, {'response': {'header': {'resultCode': '00', 'resultMsg': 'NORMAL SERVICE.'}, 'body': {'items': {'item': [{'gpslati': 37.2718, 'gpslong': 126.9954333, 'nodeid': 'GGB277103108', 'nodenm': '서둔동차고지대기(미정차)', 'nodeord': 1, 'routeid': 'GGB233000273'}, {'gpslati': 37.2738333, 'gpslong': 126.9948333, 'nodeid': 'GGB277103109', 'nodenm': '차고지출발(미정차)', 'nodeord': 2, 'routeid': 'GGB233000273'}, {'gpslati': 37.2706667, 'gpslong': 126.9942, 'nodeid': 'GGB277101594', 'nodenm': '서둔교차로(미정차)', 'nodeord': 3, 'routeid': 'GGB233000273'}, {'gpslati': 37.2649333, 'gpslong': 127.0015833, 'nodeid': 'GGB202000262', 'nodenm': '수원역.AK플라자', 'nodeno': 3022, 'nodeord': 4, 'routeid': 'GGB233000273'}, {'gpslati': 37.2623833, 'gpslong': 127.0030333, 'nodeid': 'GGB277103127', 'nodenm': '세평지하차도(미정차)', 'nodeord': 5, 'routeid': 'GGB233000273'}, {'gpslati': 37.2598, 'gpslong': 126.99845, 'nodeid': 'GGB277102798', 'nodenm': '벌말교차로(미정차)', 'nodeord': 6, 'routeid': 'GGB233000273'}, {'gpslati': 37.25285, 'gpslong': 126.9875667, 'nodeid': 'GGB277102799', 'nodenm': '작은말삼거리(미정차)', 'nodeord': 7, 'routeid': 'GGB233000273'}, {'gpslati': 37.25065, 'gpslong': 126.9796667, 'nodeid': 'GGB201000018', 'nodenm': '고색역.고색초교.태산아파트', 'nodeno': 2122, 'nodeord': 8, 'routeid': 'GGB233000273'}, {'gpslati': 37.2473, 'gpslong': 126.9678333, 'nodeid': 'GGB277102800', 'nodenm': '오목초교삼거리(미정차)', 'nodeord': 9, 'routeid': 'GGB233000273'}, {'gpslati': 37.2448, 'gpslong': 126.96355, 'nodeid': 'GGB201000167', 'nodenm': '오목천동사거리', 'nodeno': 2060, 'nodeord': 10, 'routeid': 'GGB233000273'}]}, 'numOfRows': 10, 'pageNo': 1, 'totalCount': 98}}}, {'response': {'header': {'resultCode': '00', 'resultMsg': 'NORMAL SERVICE.'}, 'body': {'items': {'item': [{'gpslati': 37.3216667, 'gpslong': 126.98905, 'nodeid': 'GGB200000165', 'nodenm': '이목동차고지.이목동입구', 'nodeno': 1070, 'nodeord': 1, 'routeid': 'GGB233000087'}, {'gpslati': 37.3212, 'gpslong': 126.98885, 'nodeid': 'GGB200000298', 'nodenm': '파장동북부차고지', 'nodeno': 1280, 'nodeord': 2, 'routeid': 'GGB233000087'}, {'gpslati': 37.3182167, 'gpslong': 126.98785, 'nodeid': 'GGB200000148', 'nodenm': '지지대교차로', 'nodeno': 1067, 'nodeord': 3, 'routeid': 'GGB233000087'}, {'gpslati': 37.3139, 'gpslong': 126.9862333, 'nodeid': 'GGB200000128', 'nodenm': '이목동입구', 'nodeno': 1063, 'nodeord': 4, 'routeid': 'GGB233000087'}, {'gpslati': 37.3081, 'gpslong': 126.9861167, 'nodeid': 'GGB200000325', 'nodenm': 'SK스카이뷰.다솔초등학교', 'nodeno': 1299, 'nodeord': 5, 'routeid': 'GGB233000087'}, {'gpslati': 37.3052667, 'gpslong': 126.9855333, 'nodeid': 'GGB200000326', 'nodenm': 'SK스카이뷰', 'nodeno': 1300, 'nodeord': 6, 'routeid': 'GGB233000087'}, {'gpslati': 37.3025, 'gpslong': 126.9799833, 'nodeid': 'GGB200000102', 'nodenm': '샘내현대아파트', 'nodeno': 1029, 'nodeord': 7, 'routeid': 'GGB233000087'}, {'gpslati': 37.2991333, 'gpslong': 126.9821, 'nodeid': 'GGB200000101', 'nodenm': '천천중학교', 'nodeno': 1039, 'nodeord': 8, 'routeid': 'GGB233000087'}, {'gpslati': 37.2963167, 'gpslong': 126.9834167, 'nodeid': 'GGB200000100', 'nodenm': '현대성우.우방아파트', 'nodeno': 1047, 'nodeord': 9, 'routeid': 'GGB233000087'}, {'gpslati': 37.2953333, 'gpslong': 126.9836167, 'nodeid': 'GGB200000327', 'nodenm': '청솔한라아파트.롯데마트', 'nodeno': 1301, 'nodeord': 10, 'routeid': 'GGB233000087'}]}, 'numOfRows': 10, 'pageNo': 1, 'totalCount': 89}}}, {'response': {'header': {'resultCode': '00', 'resultMsg': 'NORMAL SERVICE.'}, 'body': {'items': {'item': [{'gpslati': 37.2718, 'gpslong': 126.9954333, 'nodeid': 'GGB277103108', 'nodenm': '서둔동차고지대기(미정차)', 'nodeord': 1, 'routeid': 'GGB233000031'}, {'gpslati': 37.2738333, 'gpslong': 126.9948333, 'nodeid': 'GGB277103109', 'nodenm': '차고지출발(미정차)', 'nodeord': 2, 'routeid': 'GGB233000031'}, {'gpslati': 37.2706667, 'gpslong': 126.9942, 'nodeid': 'GGB277101594', 'nodenm': '서둔교차로(미정차)', 'nodeord': 3, 'routeid': 'GGB233000031'}, {'gpslati': 37.2679667, 'gpslong': 127.0000833, 'nodeid': 'GGB202000088', 'nodenm': '수원역', 'nodeno': 3171, 'nodeord': 4, 'routeid': 'GGB233000031'}, {'gpslati': 37.2712167, 'gpslong': 127.0010667, 'nodeid': 'GGB202000223', 'nodenm': '고등동구터미널', 'nodeno': 3020, 'nodeord': 5, 'routeid': 'GGB233000031'}, {'gpslati': 37.2744167, 'gpslong': 127.0026333, 'nodeid': 'GGB202000222', 'nodenm': '고등동사거리', 'nodeno': 3024, 'nodeord': 6, 'routeid': 'GGB233000031'}, {'gpslati': 37.2760667, 'gpslong': 127.0031167, 'nodeid': 'GGB202000221', 'nodenm': '수원여고.푸르지오자이', 'nodeno': 3029, 'nodeord': 7, 'routeid': 'GGB233000031'}, {'gpslati': 37.2800833, 'gpslong': 127.0046, 'nodeid': 'GGB202000205', 'nodenm': '병무청입구.한국소방안전원경기지부', 'nodeno': 3031, 'nodeord': 8, 'routeid': 'GGB233000031'}, {'gpslati': 37.28215, 'gpslong': 127.0060167, 'nodeid': 'GGB202000204', 'nodenm': '글로벌청소년드림센터', 'nodeno': 3034, 'nodeord': 9, 'routeid': 'GGB233000031'}, {'gpslati': 37.28615, 'gpslong': 127.0090667, 'nodeid': 'GGB200000190', 'nodenm': '화서문.장안공원', 'nodeno': 1258, 'nodeord': 10, 'routeid': 'GGB233000031'}]}, 'numOfRows': 10, 'pageNo': 1, 'totalCount': 68}}}, {'response': {'header': {'resultCode': '00', 'resultMsg': 'NORMAL SERVICE.'}, 'body': {'items': {'item': [{'gpslati': 37.2718, 'gpslong': 126.9954333, 'nodeid': 'GGB277103108', 'nodenm': '서둔동차고지대기(미정차)', 'nodeord': 1, 'routeid': 'GGB233000272'}, {'gpslati': 37.2738333, 'gpslong': 126.9948333, 'nodeid': 'GGB277103109', 'nodenm': '차고지출발(미정차)', 'nodeord': 2, 'routeid': 'GGB233000272'}, {'gpslati': 37.2706667, 'gpslong': 126.9942, 'nodeid': 'GGB277101594', 'nodenm': '서둔교차로(미정차)', 'nodeord': 3, 'routeid': 'GGB233000272'}, {'gpslati': 37.2649333, 'gpslong': 127.0015833, 'nodeid': 'GGB202000262', 'nodenm': '수원역.AK플라자', 'nodeno': 3022, 'nodeord': 4, 'routeid': 'GGB233000272'}, {'gpslati': 37.2623833, 'gpslong': 127.0030333, 'nodeid': 'GGB277103127', 'nodenm': '세평지하차도(미정차)', 'nodeord': 5, 'routeid': 'GGB233000272'}, {'gpslati': 37.2598, 'gpslong': 126.99845, 'nodeid': 'GGB277102798', 'nodenm': '벌말교차로(미정차)', 'nodeord': 6, 'routeid': 'GGB233000272'}, {'gpslati': 37.25285, 'gpslong': 126.9875667, 'nodeid': 'GGB277102799', 'nodenm': '작은말삼거리(미정차)', 'nodeord': 7, 'routeid': 'GGB233000272'}, {'gpslati': 37.25065, 'gpslong': 126.9796667, 'nodeid': 'GGB201000018', 'nodenm': '고색역.고색초교.태산아파트', 'nodeno': 2122, 'nodeord': 8, 'routeid': 'GGB233000272'}, {'gpslati': 37.2473, 'gpslong': 126.9678333, 'nodeid': 'GGB277102800', 'nodenm': '오목초교삼거리(미정차)', 'nodeord': 9, 'routeid': 'GGB233000272'}, {'gpslati': 37.2448, 'gpslong': 126.96355, 'nodeid': 'GGB201000167', 'nodenm': '오목천동사거리', 'nodeno': 2060, 'nodeord': 10, 'routeid': 'GGB233000272'}]}, 'numOfRows': 10, 'pageNo': 1, 'totalCount': 97}}}, {'response': {'header': {'resultCode': '00', 'resultMsg': 'NORMAL SERVICE.'}, 'body': {'items': {'item': [{'gpslati': 37.2970333, 'gpslong': 127.069, 'nodeid': 'GGB203000287', 'nodenm': '상현역', 'nodeno': 4277, 'nodeord': 1, 'routeid': 'GGB234001286'}, {'gpslati': 37.2922167, 'gpslong': 127.0660833, 'nodeid': 'GGB203000284', 'nodenm': '광교휴먼시아32단지정문', 'nodeno': 4302, 'nodeord': 2, 'routeid': 'GGB234001286'}, {'gpslati': 37.2890833, 'gpslong': 127.0607, 'nodeid': 'GGB203000275', 'nodenm': '광교센트럴뷰.힐스테이트레이크', 'nodeno': 4290, 'nodeord': 3, 'routeid': 'GGB234001286'}, {'gpslati': 37.2884833, 'gpslong': 127.0518833, 'nodeid': 'GGB203000399', 'nodenm': '광교중앙.경기도청.아주대역환승센터', 'nodeno': 4396, 'nodeord': 4, 'routeid': 'GGB234001286'}, {'gpslati': 37.2923833, 'gpslong': 127.0474167, 'nodeid': 'GGB203000042', 'nodenm': '푸르지오월드마크.차세대융합기술연구원', 'nodeno': 4186, 'nodeord': 5, 'routeid': 'GGB234001286'}, {'gpslati': 37.3054167, 'gpslong': 127.0488167, 'nodeid': 'GGB203000265', 'nodenm': '광교한양수자인.호반가든하임', 'nodeno': 4263, 'nodeord': 6, 'routeid': 'GGB234001286'}, {'gpslati': 37.2978333, 'gpslong': 127.0417667, 'nodeid': 'GGB203000035', 'nodenm': '경기대수원캠퍼스후문', 'nodeno': 4184, 'nodeord': 7, 'routeid': 'GGB234001286'}, {'gpslati': 37.2971, 'gpslong': 127.0470833, 'nodeid': 'GGB277103382', 'nodenm': '동수원TG(미정차)', 'nodeord': 8, 'routeid': 'GGB234001286'}, {'gpslati': 37.2931667, 'gpslong': 127.0789167, 'nodeid': 'GGB277103691', 'nodenm': '광교(미정차)', 'nodeord': 9, 'routeid': 'GGB234001286'}, {'gpslati': 37.2898, 'gpslong': 127.1031167, 'nodeid': 'GGB277103231', 'nodenm': '신갈JC(미정차)', 'nodeord': 10, 'routeid': 'GGB234001286'}]}, 'numOfRows': 10, 'pageNo': 1, 'totalCount': 58}}}, {'response': {'header': {'resultCode': '00', 'resultMsg': 'NORMAL SERVICE.'}, 'body': {'items': {'item': [{'gpslati': 37.2593833, 'gpslong': 127.0486667, 'nodeid': 'GGB203000023', 'nodenm': '삼성전자중앙문', 'nodeno': 4046, 'nodeord': 1, 'routeid': 'GGB234001317'}, {'gpslati': 37.2657167, 'gpslong': 127.0522333, 'nodeid': 'GGB277102595', 'nodenm': '매원고삼거리(미정차)', 'nodeord': 2, 'routeid': 'GGB234001317'}, {'gpslati': 37.26735, 'gpslong': 127.05625, 'nodeid': 'GGB203000116', 'nodenm': '금성아파트.한국2차아파트', 'nodeno': 4071, 'nodeord': 3, 'routeid': 'GGB234001317'}, {'gpslati': 37.2709333, 'gpslong': 127.0596, 'nodeid': 'GGB203000071', 'nodenm': '광교호수공원입구.원천교사거리', 'nodeno': 4087, 'nodeord': 4, 'routeid': 'GGB234001317'}, {'gpslati': 37.2735833, 'gpslong': 127.0511, 'nodeid': 'GGB203000069', 'nodenm': 'KT동수원지사', 'nodeno': 4056, 'nodeord': 5, 'routeid': 'GGB234001317'}, {'gpslati': 37.2779667, 'gpslong': 127.0519833, 'nodeid': 'GGB203000294', 'nodenm': '소화초등학교', 'nodeno': 4286, 'nodeord': 6, 'routeid': 'GGB234001317'}, {'gpslati': 37.2884833, 'gpslong': 127.0518833, 'nodeid': 'GGB203000399', 'nodenm': '광교중앙.경기도청.아주대역환승센터', 'nodeno': 4396, 'nodeord': 7, 'routeid': 'GGB234001317'}, {'gpslati': 37.2923833, 'gpslong': 127.0474167, 'nodeid': 'GGB203000042', 'nodenm': '푸르지오월드마크.차세대융합기술연구원', 'nodeno': 4186, 'nodeord': 8, 'routeid': 'GGB234001317'}, {'gpslati': 37.2971, 'gpslong': 127.0470833, 'nodeid': 'GGB277103382', 'nodenm': '동수원TG(미정차)', 'nodeord': 9, 'routeid': 'GGB234001317'}, {'gpslati': 37.2931667, 'gpslong': 127.0789167, 'nodeid': 'GGB277103691', 'nodenm': '광교(미정차)', 'nodeord': 10, 'routeid': 'GGB234001317'}]}, 'numOfRows': 10, 'pageNo': 1, 'totalCount': 59}}}, {'response': {'header': {'resultCode': '00', 'resultMsg': 'NORMAL SERVICE.'}, 'body': {'items': {'item': [{'gpslati': 37.2718, 'gpslong': 126.9954333, 'nodeid': 'GGB277103108', 'nodenm': '서둔동차고지대기(미정차)', 'nodeord': 1, 'routeid': 'GGB233000271'}, {'gpslati': 37.2738333, 'gpslong': 126.9948333, 'nodeid': 'GGB277103109', 'nodenm': '차고지출발(미정차)', 'nodeord': 2, 'routeid': 'GGB233000271'}, {'gpslati': 37.2706667, 'gpslong': 126.9942, 'nodeid': 'GGB277101594', 'nodenm': '서둔교차로(미정차)', 'nodeord': 3, 'routeid': 'GGB233000271'}, {'gpslati': 37.2649333, 'gpslong': 127.0015833, 'nodeid': 'GGB202000262', 'nodenm': '수원역.AK플라자', 'nodeno': 3022, 'nodeord': 4, 'routeid': 'GGB233000271'}, {'gpslati': 37.2623833, 'gpslong': 127.0030333, 'nodeid': 'GGB277103127', 'nodenm': '세평지하차도(미정차)', 'nodeord': 5, 'routeid': 'GGB233000271'}, {'gpslati': 37.2598, 'gpslong': 126.99845, 'nodeid': 'GGB277102798', 'nodenm': '벌말교차로(미정차)', 'nodeord': 6, 'routeid': 'GGB233000271'}, {'gpslati': 37.25285, 'gpslong': 126.9875667, 'nodeid': 'GGB277102799', 'nodenm': '작은말삼거리(미정차)', 'nodeord': 7, 'routeid': 'GGB233000271'}, {'gpslati': 37.25065, 'gpslong': 126.9796667, 'nodeid': 'GGB201000018', 'nodenm': '고색역.고색초교.태산아파트', 'nodeno': 2122, 'nodeord': 8, 'routeid': 'GGB233000271'}, {'gpslati': 37.2448, 'gpslong': 126.96355, 'nodeid': 'GGB201000167', 'nodenm': '오목천동사거리', 'nodeno': 2060, 'nodeord': 9, 'routeid': 'GGB233000271'}, {'gpslati': 37.242, 'gpslong': 126.9628167, 'nodeid': 'GGB201000166', 'nodenm': '오목천역.영신여자고교.청구아파트', 'nodeno': 2055, 'nodeord': 10, 'routeid': 'GGB233000271'}]}, 'numOfRows': 10, 'pageNo': 1, 'totalCount': 95}}}]\n",
      "10\n"
     ]
    }
   ],
   "source": [
    "from pprint import pprint\n",
    "import requests\n",
    "import json\n",
    "from IPython.display import JSON\n",
    "\n",
    "# 1. 노선정보항목 조회\n",
    "# 2. 노선번호목록 조회\n",
    "# 3. 노선별경유정류소목록 조회\n",
    "# 2 -> (1, 3)\n",
    "# -----\n",
    "# 4. 도시코드 목록 조회\n",
    "\n",
    "\n",
    "# 1. get_route_no_list\n",
    "result = get_route_no_list('31010')\n",
    "\n",
    "routeIds = []\n",
    "for item in result['response']['body']['items']['item']:\n",
    "    routeIds.append(item['routeid'])\n",
    "routeIds = list(set(routeIds))\n",
    "print(\"노선번호목록 조회\")\n",
    "print(routeIds)\n",
    "print(len(routeIds))\n",
    "print(\"--------------------------------\")\n",
    "\n",
    "# 2. get_route_info_iem\n",
    "# 노선정보 조회\n",
    "route_info_iems = []\n",
    "for routeId in routeIds:\n",
    "    route_info_iems.append(get_route_info_iem(31010, routeId))\n",
    "print(\"노션정보 조회\")\n",
    "print(route_info_iems)\n",
    "print(len(route_info_iems))\n",
    "\n",
    "# 3. get_route_accto_thrgh_sttn_list\n",
    "route_accto_thrgh_sttn_list = []\n",
    "for routeId in routeIds:\n",
    "    route_accto_thrgh_sttn_list.append(get_route_accto_thrgh_sttn_list(31010, routeId))\n",
    "print(\"노선별경유정류소목록 조회\")\n",
    "print(route_accto_thrgh_sttn_list)\n",
    "print(len(route_accto_thrgh_sttn_list))\n",
    "\n",
    "\n",
    "# route_info_iems = []\n",
    "# for nodeId in nodeIds:\n",
    "#     route_info_iems.append(get_route_info_iem(31010, nodeId))\n",
    "# route_info_iems"
   ]
  },
  {
   "cell_type": "code",
   "execution_count": 77,
   "id": "31c1d2fe",
   "metadata": {},
   "outputs": [],
   "source": [
    "def integrate_route_data(route_ids, route_info_items, route_stations_list):\n",
    "    \"\"\"\n",
    "    노선별 정보를 통합하여 하나의 객체로 만드는 함수\n",
    "    \n",
    "    Args:\n",
    "        route_ids: 노선 ID 리스트\n",
    "        route_info_items: 노선 정보 리스트 (get_route_info_iem 결과)\n",
    "        route_stations_list: 노선별 정류소 리스트 (get_route_accto_thrgh_sttn_list 결과)\n",
    "    \n",
    "    Returns:\n",
    "        dict: 노선 ID를 키로 하는 통합된 노선 정보 딕셔너리\n",
    "    \"\"\"\n",
    "    integrated_routes = {}\n",
    "\n",
    "    # 각 노선에 대한 정보 통합\n",
    "    for i, route_id in enumerate(route_ids):\n",
    "        try:\n",
    "            # 기본 노선 정보 추출\n",
    "            route_info = route_info_items[i]['response']['body']['items']['item']\n",
    "            \n",
    "            # 정류소 정보 추출\n",
    "            stations_data = route_stations_list[i]['response']['body']['items']['item']\n",
    "\n",
    "            # 정류소 리스트가 단일 객체인지 리스트인지 확인\n",
    "            if isinstance(stations_data, list):\n",
    "                stations = stations_data\n",
    "            else:\n",
    "                stations = [stations_data]\n",
    "\n",
    "            # 통합된 노선 객체 생성\n",
    "            integrated_route = {\n",
    "                'route_id': route_id,\n",
    "                'route_number': str(route_info.get('routeno', '')),\n",
    "                'route_type': str(route_info.get('routetp', '')),\n",
    "                'start_node_name': str(route_info.get('startnodenm', '')),\n",
    "                'end_node_name': str(route_info.get('ednodenm', '')),\n",
    "                'start_time': str(route_info.get('startvehicletime', '')),\n",
    "                'end_time': str(route_info.get('endvehicletime', '')),\n",
    "                'interval_time': str(route_info.get('intervaltime', 0)),\n",
    "                'interval_set_time': str(route_info.get('intervalsettime', '')),\n",
    "                'total_stations': len(stations),\n",
    "                'stations': []                    \n",
    "            }\n",
    "\n",
    "            # 정류소 정보 추가\n",
    "            for station in stations:\n",
    "                station_info = {\n",
    "                    'node_id': str(station.get('nodeid', '')),\n",
    "                    'node_name': str(station.get('nodenm', '')),\n",
    "                    'node_number': str(station.get('nodeno', '')),\n",
    "                    'node_order': str(station.get('nodeord', 0)),\n",
    "                    'latitude': float(station.get('gpslati', 0.0)),\n",
    "                    'longitude': float(station.get('gpslong', 0.0))\n",
    "                }\n",
    "                integrated_route['stations'].append(station_info)\n",
    "\n",
    "            # 통합된 정보를 딕셔너리에 저장\n",
    "            integrated_routes[route_id] = integrated_route\n",
    "        \n",
    "        except Exception as e:\n",
    "            print(f\"노선 {route_id} 처리 중 오류 발생: {e}\")\n",
    "            continue\n",
    "    \n",
    "    return integrated_routes\n"
   ]
  },
  {
   "cell_type": "code",
   "execution_count": null,
   "id": "5c378e60",
   "metadata": {},
   "outputs": [
    {
     "name": "stdout",
     "output_type": "stream",
     "text": [
      "총 10개 노선 데이터 통합 완료\n"
     ]
    }
   ],
   "source": [
    "# integrate_route_data 함수 활용 코드 (4줄)\n",
    "route_ids = ['GGB233000007', 'GGB233000032', 'GGB233000083', 'GGB233000273', 'GGB233000087', 'GGB233000031', 'GGB233000011', 'GGB233000012', 'GGB233000272', 'GGB233000271']\n",
    "integrated_routes = integrate_route_data(route_ids, route_info_iems, route_accto_thrgh_sttn_list)\n",
    "print(f\"총 {len(integrated_routes)}개 노선 데이터 통합 완료\")\n",
    "print(integrated_routes)"
   ]
  },
  {
   "cell_type": "code",
   "execution_count": null,
   "id": "065c4b59",
   "metadata": {},
   "outputs": [],
   "source": []
  }
 ],
 "metadata": {
  "kernelspec": {
   "display_name": "venv",
   "language": "python",
   "name": "python3"
  },
  "language_info": {
   "codemirror_mode": {
    "name": "ipython",
    "version": 3
   },
   "file_extension": ".py",
   "mimetype": "text/x-python",
   "name": "python",
   "nbconvert_exporter": "python",
   "pygments_lexer": "ipython3",
   "version": "3.13.5"
  }
 },
 "nbformat": 4,
 "nbformat_minor": 5
}
