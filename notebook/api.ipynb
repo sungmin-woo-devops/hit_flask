{
 "cells": [
  {
   "cell_type": "code",
   "execution_count": 30,
   "id": "d1622dca",
   "metadata": {},
   "outputs": [
    {
     "data": {
      "application/json": {
       "response": {
        "body": {
         "items": {
          "item": {
           "endnodenm": "사당역(중)",
           "endvehicletime": 2230,
           "intervalsattime": 60,
           "intervalsuntime": 60,
           "intervaltime": 30,
           "routeid": "GGB233000007",
           "routeno": 777,
           "routetp": "일반버스",
           "startnodenm": "서둔동차고지대기(미정차)",
           "startvehicletime": "0430"
          }
         }
        },
        "header": {
         "resultCode": "00",
         "resultMsg": "NORMAL SERVICE."
        }
       }
      },
      "text/plain": [
       "<IPython.core.display.JSON object>"
      ]
     },
     "metadata": {
      "application/json": {
       "expanded": true,
       "root": "root"
      }
     },
     "output_type": "display_data"
    }
   ],
   "source": [
    "# 노선정보항목 조회\n",
    "from pprint import pprint\n",
    "import requests\n",
    "import json\n",
    "from IPython.display import JSON\n",
    "\n",
    "url = '\thttp://apis.data.go.kr/1613000/BusRouteInfoInqireService/getRouteInfoIem'\n",
    "params = {\n",
    "    'serviceKey': 'M4b1RJ9DzKhNVluQtxDKwnBZjluhh0A2A8LQRp7u6UCjfX6sdxRp+S5+S1ZxGG7fFAwXzr/B+91t96JdiulOkA==',\n",
    "    '_type': 'json',\n",
    "    'cityCode': '31010',\n",
    "    'routeId': 'GGB233000007',\n",
    "}\n",
    "response = requests.get(url, params=params)\n",
    "decoded = response.content.decode(\"utf-8\")\n",
    "display(JSON(decoded, expanded=True))"
   ]
  },
  {
   "cell_type": "code",
   "execution_count": 28,
   "id": "9fa73f53",
   "metadata": {},
   "outputs": [
    {
     "name": "stderr",
     "output_type": "stream",
     "text": [
      "c:\\workspace\\hit_flask\\venv\\lib\\site-packages\\IPython\\core\\display.py:664: UserWarning: JSON expects JSONable dict or list, not JSON strings\n",
      "  warnings.warn(\"JSON expects JSONable dict or list, not JSON strings\")\n"
     ]
    },
    {
     "data": {
      "application/json": {
       "response": {
        "body": {
         "items": {
          "item": [
           {
            "endnodenm": "사당역(중)",
            "endvehicletime": 2230,
            "routeid": "GGB233000007",
            "routeno": 777,
            "routetp": "일반버스",
            "startnodenm": "서둔동차고지대기(미정차)",
            "startvehicletime": "0430"
           },
           {
            "endnodenm": "협성대학교정문",
            "endvehicletime": 2215,
            "routeid": "GGB233000011",
            "routeno": 34,
            "routetp": "일반버스",
            "startnodenm": "수원시동부차고지",
            "startvehicletime": "0500"
           },
           {
            "endnodenm": "협성대학교정문",
            "endvehicletime": 2230,
            "routeid": "GGB233000012",
            "routeno": "34-1",
            "routetp": "일반버스",
            "startnodenm": "수원시동부차고지",
            "startvehicletime": "0517"
           },
           {
            "endnodenm": "사당역(중)",
            "endvehicletime": "0100",
            "routeid": "GGB233000031",
            "routeno": 7770,
            "routetp": "직행좌석버스",
            "startnodenm": "서둔동차고지대기(미정차)",
            "startvehicletime": "0430"
           },
           {
            "endnodenm": "사당역(중)",
            "routeid": "GGB233000032",
            "routeno": 7780,
            "routetp": "직행좌석버스",
            "startnodenm": "호매실동차고지",
            "startvehicletime": "0500"
           },
           {
            "endnodenm": "수원대학교",
            "endvehicletime": 2245,
            "routeid": "GGB233000083",
            "routeno": 30,
            "routetp": "일반버스",
            "startnodenm": "이목동차고지.이목동입구",
            "startvehicletime": "0450"
           },
           {
            "endnodenm": "봉담읍행정복지센터",
            "endvehicletime": 2300,
            "routeid": "GGB233000087",
            "routeno": 42,
            "routetp": "일반버스",
            "startnodenm": "이목동차고지.이목동입구",
            "startvehicletime": "0500"
           },
           {
            "endnodenm": "경진여객차고지",
            "endvehicletime": 2300,
            "routeid": "GGB233000271",
            "routeno": 9802,
            "routetp": "직행좌석버스",
            "startnodenm": "서둔동차고지대기(미정차)",
            "startvehicletime": "0500"
           },
           {
            "endnodenm": "안중터미널.안중보건지소",
            "endvehicletime": 2240,
            "routeid": "GGB233000272",
            "routeno": 8472,
            "routetp": "직행좌석버스",
            "startnodenm": "서둔동차고지대기(미정차)",
            "startvehicletime": "0500"
           },
           {
            "endnodenm": "안중터미널.안중보건지소",
            "endvehicletime": 2028,
            "routeid": "GGB233000273",
            "routeno": 8471,
            "routetp": "직행좌석버스",
            "startnodenm": "서둔동차고지대기(미정차)",
            "startvehicletime": "0710"
           }
          ]
         },
         "numOfRows": 10,
         "pageNo": 1,
         "totalCount": 95
        },
        "header": {
         "resultCode": "00",
         "resultMsg": "NORMAL SERVICE."
        }
       }
      },
      "text/plain": [
       "<IPython.core.display.JSON object>"
      ]
     },
     "metadata": {
      "application/json": {
       "expanded": true,
       "root": "root"
      }
     },
     "output_type": "display_data"
    }
   ],
   "source": [
    "# 노선번호목록 조회\n",
    "from pprint import pprint\n",
    "import requests\n",
    "import json\n",
    "from IPython.display import JSON\n",
    "\n",
    "url = 'http://apis.data.go.kr/1613000/BusRouteInfoInqireService/getRouteNoList'\n",
    "params = {\n",
    "    'serviceKey': 'M4b1RJ9DzKhNVluQtxDKwnBZjluhh0A2A8LQRp7u6UCjfX6sdxRp+S5+S1ZxGG7fFAwXzr/B+91t96JdiulOkA==',\n",
    "    '_type': 'json',\n",
    "    'cityCode': '31010',\n",
    "}\n",
    "response = requests.get(url, params=params)\n",
    "decoded = response.content.decode(\"utf-8\")\n",
    "display(JSON(decoded, expanded=True))"
   ]
  },
  {
   "cell_type": "code",
   "execution_count": null,
   "id": "5425bc7d",
   "metadata": {},
   "outputs": [
    {
     "ename": "JSONDecodeError",
     "evalue": "Expecting value: line 1 column 1 (char 0)",
     "output_type": "error",
     "traceback": [
      "\u001b[1;31m---------------------------------------------------------------------------\u001b[0m",
      "\u001b[1;31mJSONDecodeError\u001b[0m                           Traceback (most recent call last)",
      "Cell \u001b[1;32mIn[33], line 14\u001b[0m\n\u001b[0;32m     12\u001b[0m response \u001b[38;5;241m=\u001b[39m requests\u001b[38;5;241m.\u001b[39mget(url, params\u001b[38;5;241m=\u001b[39mparams)\n\u001b[0;32m     13\u001b[0m decoded \u001b[38;5;241m=\u001b[39m response\u001b[38;5;241m.\u001b[39mcontent\u001b[38;5;241m.\u001b[39mdecode(\u001b[38;5;124m\"\u001b[39m\u001b[38;5;124mutf-8\u001b[39m\u001b[38;5;124m\"\u001b[39m)\n\u001b[1;32m---> 14\u001b[0m display(\u001b[43mJSON\u001b[49m\u001b[43m(\u001b[49m\u001b[43mdecoded\u001b[49m\u001b[43m,\u001b[49m\u001b[43m \u001b[49m\u001b[43mexpanded\u001b[49m\u001b[38;5;241;43m=\u001b[39;49m\u001b[38;5;28;43;01mTrue\u001b[39;49;00m\u001b[43m)\u001b[49m)\n",
      "File \u001b[1;32mc:\\workspace\\hit_flask\\venv\\lib\\site-packages\\IPython\\core\\display.py:647\u001b[0m, in \u001b[0;36mJSON.__init__\u001b[1;34m(self, data, url, filename, expanded, metadata, root, **kwargs)\u001b[0m\n\u001b[0;32m    645\u001b[0m \u001b[38;5;28;01mif\u001b[39;00m kwargs:\n\u001b[0;32m    646\u001b[0m     \u001b[38;5;28mself\u001b[39m\u001b[38;5;241m.\u001b[39mmetadata\u001b[38;5;241m.\u001b[39mupdate(kwargs)\n\u001b[1;32m--> 647\u001b[0m \u001b[38;5;28;43msuper\u001b[39;49m\u001b[43m(\u001b[49m\u001b[43mJSON\u001b[49m\u001b[43m,\u001b[49m\u001b[43m \u001b[49m\u001b[38;5;28;43mself\u001b[39;49m\u001b[43m)\u001b[49m\u001b[38;5;241;43m.\u001b[39;49m\u001b[38;5;21;43m__init__\u001b[39;49m\u001b[43m(\u001b[49m\u001b[43mdata\u001b[49m\u001b[38;5;241;43m=\u001b[39;49m\u001b[43mdata\u001b[49m\u001b[43m,\u001b[49m\u001b[43m \u001b[49m\u001b[43murl\u001b[49m\u001b[38;5;241;43m=\u001b[39;49m\u001b[43murl\u001b[49m\u001b[43m,\u001b[49m\u001b[43m \u001b[49m\u001b[43mfilename\u001b[49m\u001b[38;5;241;43m=\u001b[39;49m\u001b[43mfilename\u001b[49m\u001b[43m)\u001b[49m\n",
      "File \u001b[1;32mc:\\workspace\\hit_flask\\venv\\lib\\site-packages\\IPython\\core\\display.py:364\u001b[0m, in \u001b[0;36mDisplayObject.__init__\u001b[1;34m(self, data, url, filename, metadata)\u001b[0m\n\u001b[0;32m    360\u001b[0m \u001b[38;5;28mself\u001b[39m\u001b[38;5;241m.\u001b[39mfilename \u001b[38;5;241m=\u001b[39m filename\n\u001b[0;32m    361\u001b[0m \u001b[38;5;66;03m# because of @data.setter methods in\u001b[39;00m\n\u001b[0;32m    362\u001b[0m \u001b[38;5;66;03m# subclasses ensure url and filename are set\u001b[39;00m\n\u001b[0;32m    363\u001b[0m \u001b[38;5;66;03m# before assigning to self.data\u001b[39;00m\n\u001b[1;32m--> 364\u001b[0m \u001b[38;5;28;43mself\u001b[39;49m\u001b[38;5;241;43m.\u001b[39;49m\u001b[43mdata\u001b[49m \u001b[38;5;241m=\u001b[39m data\n\u001b[0;32m    366\u001b[0m \u001b[38;5;28;01mif\u001b[39;00m metadata \u001b[38;5;129;01mis\u001b[39;00m \u001b[38;5;129;01mnot\u001b[39;00m \u001b[38;5;28;01mNone\u001b[39;00m:\n\u001b[0;32m    367\u001b[0m     \u001b[38;5;28mself\u001b[39m\u001b[38;5;241m.\u001b[39mmetadata \u001b[38;5;241m=\u001b[39m metadata\n",
      "File \u001b[1;32mc:\\workspace\\hit_flask\\venv\\lib\\site-packages\\IPython\\core\\display.py:665\u001b[0m, in \u001b[0;36mJSON.data\u001b[1;34m(self, data)\u001b[0m\n\u001b[0;32m    663\u001b[0m     \u001b[38;5;28;01mif\u001b[39;00m \u001b[38;5;28mself\u001b[39m\u001b[38;5;241m.\u001b[39mfilename \u001b[38;5;129;01mis\u001b[39;00m \u001b[38;5;28;01mNone\u001b[39;00m \u001b[38;5;129;01mand\u001b[39;00m \u001b[38;5;28mself\u001b[39m\u001b[38;5;241m.\u001b[39murl \u001b[38;5;129;01mis\u001b[39;00m \u001b[38;5;28;01mNone\u001b[39;00m:\n\u001b[0;32m    664\u001b[0m         warnings\u001b[38;5;241m.\u001b[39mwarn(\u001b[38;5;124m\"\u001b[39m\u001b[38;5;124mJSON expects JSONable dict or list, not JSON strings\u001b[39m\u001b[38;5;124m\"\u001b[39m)\n\u001b[1;32m--> 665\u001b[0m     data \u001b[38;5;241m=\u001b[39m \u001b[43mjson\u001b[49m\u001b[38;5;241;43m.\u001b[39;49m\u001b[43mloads\u001b[49m\u001b[43m(\u001b[49m\u001b[43mdata\u001b[49m\u001b[43m)\u001b[49m\n\u001b[0;32m    666\u001b[0m \u001b[38;5;28mself\u001b[39m\u001b[38;5;241m.\u001b[39m_data \u001b[38;5;241m=\u001b[39m data\n",
      "File \u001b[1;32m~\\AppData\\Local\\Programs\\Python310\\lib\\json\\__init__.py:346\u001b[0m, in \u001b[0;36mloads\u001b[1;34m(s, cls, object_hook, parse_float, parse_int, parse_constant, object_pairs_hook, **kw)\u001b[0m\n\u001b[0;32m    341\u001b[0m     s \u001b[38;5;241m=\u001b[39m s\u001b[38;5;241m.\u001b[39mdecode(detect_encoding(s), \u001b[38;5;124m'\u001b[39m\u001b[38;5;124msurrogatepass\u001b[39m\u001b[38;5;124m'\u001b[39m)\n\u001b[0;32m    343\u001b[0m \u001b[38;5;28;01mif\u001b[39;00m (\u001b[38;5;28mcls\u001b[39m \u001b[38;5;129;01mis\u001b[39;00m \u001b[38;5;28;01mNone\u001b[39;00m \u001b[38;5;129;01mand\u001b[39;00m object_hook \u001b[38;5;129;01mis\u001b[39;00m \u001b[38;5;28;01mNone\u001b[39;00m \u001b[38;5;129;01mand\u001b[39;00m\n\u001b[0;32m    344\u001b[0m         parse_int \u001b[38;5;129;01mis\u001b[39;00m \u001b[38;5;28;01mNone\u001b[39;00m \u001b[38;5;129;01mand\u001b[39;00m parse_float \u001b[38;5;129;01mis\u001b[39;00m \u001b[38;5;28;01mNone\u001b[39;00m \u001b[38;5;129;01mand\u001b[39;00m\n\u001b[0;32m    345\u001b[0m         parse_constant \u001b[38;5;129;01mis\u001b[39;00m \u001b[38;5;28;01mNone\u001b[39;00m \u001b[38;5;129;01mand\u001b[39;00m object_pairs_hook \u001b[38;5;129;01mis\u001b[39;00m \u001b[38;5;28;01mNone\u001b[39;00m \u001b[38;5;129;01mand\u001b[39;00m \u001b[38;5;129;01mnot\u001b[39;00m kw):\n\u001b[1;32m--> 346\u001b[0m     \u001b[38;5;28;01mreturn\u001b[39;00m \u001b[43m_default_decoder\u001b[49m\u001b[38;5;241;43m.\u001b[39;49m\u001b[43mdecode\u001b[49m\u001b[43m(\u001b[49m\u001b[43ms\u001b[49m\u001b[43m)\u001b[49m\n\u001b[0;32m    347\u001b[0m \u001b[38;5;28;01mif\u001b[39;00m \u001b[38;5;28mcls\u001b[39m \u001b[38;5;129;01mis\u001b[39;00m \u001b[38;5;28;01mNone\u001b[39;00m:\n\u001b[0;32m    348\u001b[0m     \u001b[38;5;28mcls\u001b[39m \u001b[38;5;241m=\u001b[39m JSONDecoder\n",
      "File \u001b[1;32m~\\AppData\\Local\\Programs\\Python310\\lib\\json\\decoder.py:337\u001b[0m, in \u001b[0;36mJSONDecoder.decode\u001b[1;34m(self, s, _w)\u001b[0m\n\u001b[0;32m    332\u001b[0m \u001b[38;5;28;01mdef\u001b[39;00m\u001b[38;5;250m \u001b[39m\u001b[38;5;21mdecode\u001b[39m(\u001b[38;5;28mself\u001b[39m, s, _w\u001b[38;5;241m=\u001b[39mWHITESPACE\u001b[38;5;241m.\u001b[39mmatch):\n\u001b[0;32m    333\u001b[0m \u001b[38;5;250m    \u001b[39m\u001b[38;5;124;03m\"\"\"Return the Python representation of ``s`` (a ``str`` instance\u001b[39;00m\n\u001b[0;32m    334\u001b[0m \u001b[38;5;124;03m    containing a JSON document).\u001b[39;00m\n\u001b[0;32m    335\u001b[0m \n\u001b[0;32m    336\u001b[0m \u001b[38;5;124;03m    \"\"\"\u001b[39;00m\n\u001b[1;32m--> 337\u001b[0m     obj, end \u001b[38;5;241m=\u001b[39m \u001b[38;5;28;43mself\u001b[39;49m\u001b[38;5;241;43m.\u001b[39;49m\u001b[43mraw_decode\u001b[49m\u001b[43m(\u001b[49m\u001b[43ms\u001b[49m\u001b[43m,\u001b[49m\u001b[43m \u001b[49m\u001b[43midx\u001b[49m\u001b[38;5;241;43m=\u001b[39;49m\u001b[43m_w\u001b[49m\u001b[43m(\u001b[49m\u001b[43ms\u001b[49m\u001b[43m,\u001b[49m\u001b[43m \u001b[49m\u001b[38;5;241;43m0\u001b[39;49m\u001b[43m)\u001b[49m\u001b[38;5;241;43m.\u001b[39;49m\u001b[43mend\u001b[49m\u001b[43m(\u001b[49m\u001b[43m)\u001b[49m\u001b[43m)\u001b[49m\n\u001b[0;32m    338\u001b[0m     end \u001b[38;5;241m=\u001b[39m _w(s, end)\u001b[38;5;241m.\u001b[39mend()\n\u001b[0;32m    339\u001b[0m     \u001b[38;5;28;01mif\u001b[39;00m end \u001b[38;5;241m!=\u001b[39m \u001b[38;5;28mlen\u001b[39m(s):\n",
      "File \u001b[1;32m~\\AppData\\Local\\Programs\\Python310\\lib\\json\\decoder.py:355\u001b[0m, in \u001b[0;36mJSONDecoder.raw_decode\u001b[1;34m(self, s, idx)\u001b[0m\n\u001b[0;32m    353\u001b[0m     obj, end \u001b[38;5;241m=\u001b[39m \u001b[38;5;28mself\u001b[39m\u001b[38;5;241m.\u001b[39mscan_once(s, idx)\n\u001b[0;32m    354\u001b[0m \u001b[38;5;28;01mexcept\u001b[39;00m \u001b[38;5;167;01mStopIteration\u001b[39;00m \u001b[38;5;28;01mas\u001b[39;00m err:\n\u001b[1;32m--> 355\u001b[0m     \u001b[38;5;28;01mraise\u001b[39;00m JSONDecodeError(\u001b[38;5;124m\"\u001b[39m\u001b[38;5;124mExpecting value\u001b[39m\u001b[38;5;124m\"\u001b[39m, s, err\u001b[38;5;241m.\u001b[39mvalue) \u001b[38;5;28;01mfrom\u001b[39;00m\u001b[38;5;250m \u001b[39m\u001b[38;5;28;01mNone\u001b[39;00m\n\u001b[0;32m    356\u001b[0m \u001b[38;5;28;01mreturn\u001b[39;00m obj, end\n",
      "\u001b[1;31mJSONDecodeError\u001b[0m: Expecting value: line 1 column 1 (char 0)"
     ]
    }
   ],
   "source": [
    "# 노선별경류정류소목록 조회\n",
    "from pprint import pprint\n",
    "import requests\n",
    "import json\n",
    "from IPython.display import JSON\n",
    "\n",
    "url = 'http://apis.data.go.kr/1613000/BusRouteInfoInqireService/getRouteAcctoThrghSttnList'\n",
    "params = {\n",
    "    'serviceKey': 'M4b1RJ9DzKhNVluQtxDKwnBZjluhh0A2A8LQRp7u6UCjfX6sdxRp+S5+S1ZxGG7fFAwXzr/B+91t96JdiulOkA==',\n",
    "    '_type': 'json',\n",
    "    'cityCode': '31010',\n",
    "    'routeId': 'GGB233000007',\n",
    "}\n",
    "response = requests.get(url, params=params)\n",
    "decoded = response.content.decode(\"utf-8\")\n",
    "display(JSON(decoded, expanded=True))"
   ]
  },
  {
   "cell_type": "code",
   "execution_count": null,
   "id": "98d92ea2",
   "metadata": {},
   "outputs": [
    {
     "name": "stdout",
     "output_type": "stream",
     "text": [
      "('{\"response\":{\"header\":{\"resultCode\":\"00\",\"resultMsg\":\"NORMAL '\n",
      " 'SERVICE.\"},\"body\":{\"items\":{\"item\":[{\"citycode\":12,\"cityname\":\"세종특별시\"},{\"citycode\":21,\"cityname\":\"부산광역시\"},{\"citycode\":22,\"cityname\":\"대구광역시\"},{\"citycode\":23,\"cityname\":\"인천광역시\"},{\"citycode\":24,\"cityname\":\"광주광역시\"},{\"citycode\":25,\"cityname\":\"대전광역시\\\\/계룡시\"},{\"citycode\":26,\"cityname\":\"울산광역시\"},{\"citycode\":39,\"cityname\":\"제주도\"},{\"citycode\":31010,\"cityname\":\"수원시\"},{\"citycode\":31020,\"cityname\":\"성남시\"},{\"citycode\":31030,\"cityname\":\"의정부시\"},{\"citycode\":31040,\"cityname\":\"안양시\"},{\"citycode\":31050,\"cityname\":\"부천시\"},{\"citycode\":31060,\"cityname\":\"광명시\"},{\"citycode\":31070,\"cityname\":\"평택시\"},{\"citycode\":31080,\"cityname\":\"동두천시\"},{\"citycode\":31090,\"cityname\":\"안산시\"},{\"citycode\":31100,\"cityname\":\"고양시\"},{\"citycode\":31110,\"cityname\":\"과천시\"},{\"citycode\":31120,\"cityname\":\"구리시\"},{\"citycode\":31130,\"cityname\":\"남양주시\"},{\"citycode\":31140,\"cityname\":\"오산시\"},{\"citycode\":31150,\"cityname\":\"시흥시\"},{\"citycode\":31160,\"cityname\":\"군포시\"},{\"citycode\":31170,\"cityname\":\"의왕시\"},{\"citycode\":31180,\"cityname\":\"하남시\"},{\"citycode\":31190,\"cityname\":\"용인시\"},{\"citycode\":31200,\"cityname\":\"파주시\"},{\"citycode\":31210,\"cityname\":\"이천시\"},{\"citycode\":31220,\"cityname\":\"안성시\"},{\"citycode\":31230,\"cityname\":\"김포시\"},{\"citycode\":31240,\"cityname\":\"화성시\"},{\"citycode\":31250,\"cityname\":\"광주시\"},{\"citycode\":31260,\"cityname\":\"양주시\"},{\"citycode\":31270,\"cityname\":\"포천시\"},{\"citycode\":31320,\"cityname\":\"여주시\"},{\"citycode\":31350,\"cityname\":\"연천군\"},{\"citycode\":31370,\"cityname\":\"가평군\"},{\"citycode\":31380,\"cityname\":\"양평군\"},{\"citycode\":32010,\"cityname\":\"춘천시\"},{\"citycode\":32020,\"cityname\":\"원주시\\\\/횡성군\"},{\"citycode\":32050,\"cityname\":\"태백시\"},{\"citycode\":32310,\"cityname\":\"홍천군\"},{\"citycode\":32360,\"cityname\":\"철원군\"},{\"citycode\":32410,\"cityname\":\"양양군\"},{\"citycode\":33010,\"cityname\":\"청주시\"},{\"citycode\":33020,\"cityname\":\"충주시\"},{\"citycode\":33030,\"cityname\":\"제천시\"},{\"citycode\":33320,\"cityname\":\"보은군\"},{\"citycode\":33330,\"cityname\":\"옥천군\"},{\"citycode\":33340,\"cityname\":\"영동군\"},{\"citycode\":33350,\"cityname\":\"진천군\"},{\"citycode\":33360,\"cityname\":\"괴산군\"},{\"citycode\":33370,\"cityname\":\"음성군\"},{\"citycode\":33380,\"cityname\":\"단양군\"},{\"citycode\":34010,\"cityname\":\"천안시\"},{\"citycode\":34020,\"cityname\":\"공주시\"},{\"citycode\":34040,\"cityname\":\"아산시\"},{\"citycode\":34050,\"cityname\":\"서산시\"},{\"citycode\":34060,\"cityname\":\"논산시\"},{\"citycode\":34070,\"cityname\":\"계룡시\"},{\"citycode\":34330,\"cityname\":\"부여군\"},{\"citycode\":34390,\"cityname\":\"당진시\"},{\"citycode\":35010,\"cityname\":\"전주시\"},{\"citycode\":35020,\"cityname\":\"군산시\"},{\"citycode\":35040,\"cityname\":\"정읍시\"},{\"citycode\":35050,\"cityname\":\"남원시\"},{\"citycode\":35060,\"cityname\":\"김제시\"},{\"citycode\":35320,\"cityname\":\"진안군\"},{\"citycode\":35330,\"cityname\":\"무주군\"},{\"citycode\":35340,\"cityname\":\"장수군\"},{\"citycode\":35350,\"cityname\":\"임실군\"},{\"citycode\":35360,\"cityname\":\"순창군\"},{\"citycode\":35370,\"cityname\":\"고창군\"},{\"citycode\":35380,\"cityname\":\"부안군\"},{\"citycode\":36010,\"cityname\":\"목포시\"},{\"citycode\":36020,\"cityname\":\"여수시\"},{\"citycode\":36030,\"cityname\":\"순천시\"},{\"citycode\":36040,\"cityname\":\"나주시\"},{\"citycode\":36060,\"cityname\":\"광양시\"},{\"citycode\":36320,\"cityname\":\"곡성군\"},{\"citycode\":36330,\"cityname\":\"구례군\"},{\"citycode\":36350,\"cityname\":\"고흥군\"},{\"citycode\":36380,\"cityname\":\"장흥군\"},{\"citycode\":36400,\"cityname\":\"해남군\"},{\"citycode\":36410,\"cityname\":\"영암군\"},{\"citycode\":36420,\"cityname\":\"무안군\"},{\"citycode\":36430,\"cityname\":\"함평군\"},{\"citycode\":36450,\"cityname\":\"장성군\"},{\"citycode\":36460,\"cityname\":\"완도군\"},{\"citycode\":36470,\"cityname\":\"진도군\"},{\"citycode\":36480,\"cityname\":\"신안군\"},{\"citycode\":37010,\"cityname\":\"포항시\"},{\"citycode\":37020,\"cityname\":\"경주시\"},{\"citycode\":37030,\"cityname\":\"김천시\"},{\"citycode\":37040,\"cityname\":\"안동시\"},{\"citycode\":37050,\"cityname\":\"구미시\"},{\"citycode\":37060,\"cityname\":\"영주시\"},{\"citycode\":37070,\"cityname\":\"영천시\"},{\"citycode\":37080,\"cityname\":\"상주시\"},{\"citycode\":37090,\"cityname\":\"문경시\"},{\"citycode\":37100,\"cityname\":\"경산시\"},{\"citycode\":37320,\"cityname\":\"의성군\"},{\"citycode\":37330,\"cityname\":\"청송군\"},{\"citycode\":37340,\"cityname\":\"영양군\"},{\"citycode\":37350,\"cityname\":\"영덕군\"},{\"citycode\":37360,\"cityname\":\"청도군\"},{\"citycode\":37370,\"cityname\":\"고령군\"},{\"citycode\":37380,\"cityname\":\"성주군\"},{\"citycode\":37390,\"cityname\":\"칠곡군\"},{\"citycode\":37400,\"cityname\":\"예천군\"},{\"citycode\":37410,\"cityname\":\"봉화군\"},{\"citycode\":37420,\"cityname\":\"울진군\"},{\"citycode\":37430,\"cityname\":\"울릉군\"},{\"citycode\":38010,\"cityname\":\"창원시\"},{\"citycode\":38030,\"cityname\":\"진주시\"},{\"citycode\":38050,\"cityname\":\"통영시\"},{\"citycode\":38060,\"cityname\":\"사천시\"},{\"citycode\":38070,\"cityname\":\"김해시\"},{\"citycode\":38080,\"cityname\":\"밀양시\"},{\"citycode\":38090,\"cityname\":\"거제시\"},{\"citycode\":38100,\"cityname\":\"양산시\"},{\"citycode\":38310,\"cityname\":\"의령군\"},{\"citycode\":38320,\"cityname\":\"함안군\"},{\"citycode\":38330,\"cityname\":\"창녕군\"},{\"citycode\":38340,\"cityname\":\"고성군\"},{\"citycode\":38350,\"cityname\":\"남해군\"},{\"citycode\":38360,\"cityname\":\"하동군\"},{\"citycode\":38370,\"cityname\":\"산청군\"},{\"citycode\":38380,\"cityname\":\"함양군\"},{\"citycode\":38390,\"cityname\":\"거창군\"},{\"citycode\":38400,\"cityname\":\"합천군\"}]}}}}')\n"
     ]
    }
   ],
   "source": [
    "# 도시코드 목록 조회\n",
    "from pprint import pprint\n",
    "import requests\n",
    "url = 'http://apis.data.go.kr/1613000/BusRouteInfoInqireService/getCtyCodeList'\n",
    "params = {\n",
    "    'serviceKey': 'M4b1RJ9DzKhNVluQtxDKwnBZjluhh0A2A8LQRp7u6UCjfX6sdxRp+S5+S1ZxGG7fFAwXzr/B+91t96JdiulOkA==',\n",
    "    '_type': 'json',\n",
    "    'cityCode': '31010',\n",
    "    'routeId': 'GGB233000007',\n",
    "}\n",
    "response = requests.get(url, params=params)\n",
    "# content(바이트) → decode(\"utf-8\")로 한글 변환\n",
    "decoded = response.content.decode(\"utf-8\")\n",
    "pprint(decoded)\n",
    "display(JSON(decoded, expanded=True))"
   ]
  },
  {
   "cell_type": "code",
   "execution_count": null,
   "id": "4a22cb07",
   "metadata": {},
   "outputs": [],
   "source": []
  }
 ],
 "metadata": {
  "kernelspec": {
   "display_name": "venv",
   "language": "python",
   "name": "python3"
  },
  "language_info": {
   "codemirror_mode": {
    "name": "ipython",
    "version": 3
   },
   "file_extension": ".py",
   "mimetype": "text/x-python",
   "name": "python",
   "nbconvert_exporter": "python",
   "pygments_lexer": "ipython3",
   "version": "3.10.11"
  }
 },
 "nbformat": 4,
 "nbformat_minor": 5
}
