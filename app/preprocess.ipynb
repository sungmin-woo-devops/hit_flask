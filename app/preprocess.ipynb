{
 "cells": [
  {
   "cell_type": "code",
   "execution_count": 1,
   "id": "7b4b0316",
   "metadata": {},
   "outputs": [],
   "source": [
    "import geopandas as gpd"
   ]
  },
  {
   "cell_type": "code",
   "execution_count": null,
   "id": "5e1f0d22",
   "metadata": {},
   "outputs": [
    {
     "name": "stdout",
     "output_type": "stream",
     "text": [
      "0    종로구\n",
      "1     중구\n",
      "2    용산구\n",
      "3    성동구\n",
      "4    광진구\n",
      "Name: SIG_KOR_NM, dtype: object\n"
     ]
    }
   ],
   "source": [
    "# 시군구\n",
    "import geopandas as gpd\n",
    "\n",
    "# shapefile 읽기\n",
    "gdf = gpd.read_file(r'.\\data\\시군구\\sig.shp', encoding='cp949')\n",
    "\n",
    "# WGS84 좌표계 변환\n",
    "gdf = gdf.to_crs(epsg=4326)\n",
    "\n",
    "# 원래 geometry는 그대로 두고, WKT는 새 열에 저장\n",
    "gdf['geometry_wkt'] = gdf.geometry.apply(lambda geom: geom.wkt)\n",
    "\n",
    "# CSV로 저장 (geometry 열은 제거되며, WKT는 geometry_wkt에 포함됨)\n",
    "gdf.drop(columns='geometry').to_csv(r'.\\data\\시군구\\sig.csv', index=False, encoding='utf-8-sig')\n"
   ]
  },
  {
   "cell_type": "code",
   "execution_count": 10,
   "id": "284024b5",
   "metadata": {},
   "outputs": [],
   "source": [
    "# 읍면동\n",
    "import geopandas as gpd\n",
    "\n",
    "# shapefile 읽기\n",
    "gdf = gpd.read_file(r'.\\data\\읍면동\\emd.shp', encoding='cp949')\n",
    "\n",
    "# WGS84 좌표계 변환\n",
    "gdf = gdf.to_crs(epsg=4326)\n",
    "\n",
    "# 원래 geometry는 그대로 두고, WKT는 새 열에 저장\n",
    "gdf['geometry_wkt'] = gdf.geometry.apply(lambda geom: geom.wkt)\n",
    "\n",
    "# CSV로 저장 (geometry 열은 제거되며, WKT는 geometry_wkt에 포함됨)\n",
    "gdf.drop(columns='geometry').to_csv(r'.\\data\\읍면동\\emd.csv', index=False, encoding='utf-8-sig')\n"
   ]
  },
  {
   "cell_type": "code",
   "execution_count": null,
   "id": "f6ec1f6e",
   "metadata": {},
   "outputs": [],
   "source": [
    "import pandas as pd\n",
    "import json\n",
    "\n",
    "csv_file = r'.\\data\\시군구\\sig.csv'\n",
    "output_file = r'.\\data\\suwon_sig.json'\n",
    "\n",
    "df = pd.read_csv(csv_file, encoding='utf-8')\n",
    "\n",
    "if 'SIG_KOR_NM' not in df.columns:\n",
    "    raise ValueError('SIG_KOR_NM 컬럼이 없습니다.')\n",
    "\n",
    "filtered = df[df['SIG_KOR_NM'].astype(str).str.contains('수원', na=False)]\n",
    "filtered.to_json(output_file, orient='records', force_ascii=False, indent=2)\n"
   ]
  },
  {
   "cell_type": "code",
   "execution_count": 28,
   "id": "50a8426b",
   "metadata": {},
   "outputs": [
    {
     "name": "stdout",
     "output_type": "stream",
     "text": [
      "           법정동코드 법정동명\n",
      "4926  4111000100  반정동\n",
      "4929  4111010300  남창동\n",
      "4931  4111010500   영동\n",
      "4932  4111010600   중동\n",
      "4933  4111010700  구천동\n",
      "...          ...  ...\n",
      "5129  4111710300  이의동\n",
      "5130  4111710400   하동\n",
      "5131  4111710500  영통동\n",
      "5132  4111710600   신동\n",
      "5133  4111710700  망포동\n",
      "\n",
      "[183 rows x 2 columns]\n",
      "183\n",
      "183\n"
     ]
    }
   ],
   "source": [
    "import pandas as pd\n",
    "\n",
    "emd_code_df = pd.read_csv(r'.\\data\\국토교통부_법정동코드_20240805.csv', encoding='cp949')\n",
    "\n",
    "# '경기도 수원시'로 시작하고, '동'이 포함된 것\n",
    "suwon_dong_df = emd_code_df[\n",
    "    emd_code_df['법정동명'].str.startswith('경기도 수원') & \n",
    "    emd_code_df['법정동명'].str.contains('동')\n",
    "].copy()  # <- .copy() 추가\n",
    "\n",
    "# '경기도 수원시' 제거 -> '장안구 반정동' 형태로\n",
    "suwon_dong_df.loc[:, '법정동명'] = suwon_dong_df['법정동명'].str.replace('경기도 수원시 ', '', regex=False)\n",
    "\n",
    "# 마지막 공백 기준으로 뒷부분만 추출 -> '반정동' 형태로\n",
    "suwon_dong_df.loc[:, '법정동명'] = suwon_dong_df['법정동명'].apply(lambda x: x.split()[-1])\n",
    "\n",
    "print(suwon_dong_df[['법정동코드', '법정동명']])\n",
    "print(len(suwon_dong_df))\n",
    "\n",
    "suwon_dong_name = suwon_dong_df[\"법정동명\"].str.startswith('경기도 수원')\n",
    "print(len(suwon_dong_name))"
   ]
  },
  {
   "cell_type": "code",
   "execution_count": 13,
   "id": "da2b89f3",
   "metadata": {},
   "outputs": [],
   "source": [
    "import pandas as pd\n",
    "import json\n",
    "\n",
    "csv_file = r'.\\data\\읍면동\\emd.csv'\n",
    "output_file = r'.\\data\\suwon_emd.json'\n",
    "\n",
    "df = pd.read_csv(csv_file, encoding='utf-8')\n",
    "\n",
    "if 'EMD_KOR_NM' not in df.columns:\n",
    "    raise ValueError('EMD_KOR_NM 컬럼이 없습니다.')\n",
    "\n",
    "filtered = df[df['EMD_KOR_NM'].astype(str).str.contains('수원', na=False)]\n",
    "filtered.to_json(output_file, orient='records', force_ascii=False, indent=2)"
   ]
  }
 ],
 "metadata": {
  "kernelspec": {
   "display_name": "venv",
   "language": "python",
   "name": "python3"
  },
  "language_info": {
   "codemirror_mode": {
    "name": "ipython",
    "version": 3
   },
   "file_extension": ".py",
   "mimetype": "text/x-python",
   "name": "python",
   "nbconvert_exporter": "python",
   "pygments_lexer": "ipython3",
   "version": "3.13.5"
  }
 },
 "nbformat": 4,
 "nbformat_minor": 5
}
